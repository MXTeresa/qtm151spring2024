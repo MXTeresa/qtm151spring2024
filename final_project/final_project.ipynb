{
 "cells": [
  {
   "cell_type": "markdown",
   "metadata": {},
   "source": [
    "# <span style=\"color:orange\"> Final Project: Which Constructor is Able to Produce the Fastest Vehicle? </span>"
   ]
  },
  {
   "cell_type": "markdown",
   "metadata": {},
   "source": [
    "<font size=\"4\"> \n",
    "\n",
    "Nancy Chen, Jessica Sun, Teresa Shi\n",
    "\n",
    "***"
   ]
  },
  {
   "cell_type": "markdown",
   "metadata": {},
   "source": [
    "## 1. Introduction"
   ]
  },
  {
   "cell_type": "markdown",
   "metadata": {},
   "source": [
    "Formula 1, often abbreviated as F1, is the highest class of single-seater auto racing sanctioned by the Fédération Internationale de l'Automobile (FIA). It involves highly specialized, open-wheel racing cars competing on circuits around the world. The sport is known for its cutting-edge technology, high speeds, and skilled drivers, who race in a series of Grands Prix throughout the season to compete for the World Drivers' Championship and the Constructors' Championship.\n",
    "\n",
    "(question & why relevant & results & comming structure?)\n",
    "\n",
    "***"
   ]
  },
  {
   "cell_type": "markdown",
   "metadata": {},
   "source": [
    "## 2. Data Description"
   ]
  },
  {
   "cell_type": "markdown",
   "metadata": {},
   "source": [
    "For our research question, we will be focusing on datasets `constructors` and `results`. The dataset `constructors` provides a table with 211 rows, each records a constructor's ID, its corresponding name, its nationality, as well as its official URL. The dataset `results` is a comprehensive dataset consisting of 25480 observation and 18 variables that provides the performance of drivers. Each row records the performance of a driver in a specific race, including their point, fastest lap time, etc."
   ]
  },
  {
   "cell_type": "code",
   "execution_count": 43,
   "metadata": {},
   "outputs": [],
   "source": [
    "import pandas as pd\n",
    "import numpy as np\n",
    "import matplotlib as plt\n",
    "\n",
    "# import datasets\n",
    "constructors = pd.read_csv(\"data_raw/constructors.csv\")\n",
    "results = pd.read_csv(\"data_raw/results.csv\")"
   ]
  },
  {
   "cell_type": "code",
   "execution_count": 44,
   "metadata": {},
   "outputs": [
    {
     "name": "stdout",
     "output_type": "stream",
     "text": [
      "211\n",
      "25840\n"
     ]
    }
   ],
   "source": [
    "print(len(constructors))\n",
    "print(len(results))"
   ]
  },
  {
   "cell_type": "markdown",
   "metadata": {},
   "source": [
    "### 2.1. Merging Datasets"
   ]
  },
  {
   "cell_type": "markdown",
   "metadata": {},
   "source": [
    "Since we're interested in paring up the constructor's name (e.g. Toyota) with the actual records of the races, we will merge the `constructors` dataset with `results` based on `constructorId`."
   ]
  },
  {
   "cell_type": "code",
   "execution_count": 53,
   "metadata": {},
   "outputs": [
    {
     "data": {
      "text/html": [
       "<div>\n",
       "<style scoped>\n",
       "    .dataframe tbody tr th:only-of-type {\n",
       "        vertical-align: middle;\n",
       "    }\n",
       "\n",
       "    .dataframe tbody tr th {\n",
       "        vertical-align: top;\n",
       "    }\n",
       "\n",
       "    .dataframe thead th {\n",
       "        text-align: right;\n",
       "    }\n",
       "</style>\n",
       "<table border=\"1\" class=\"dataframe\">\n",
       "  <thead>\n",
       "    <tr style=\"text-align: right;\">\n",
       "      <th></th>\n",
       "      <th>driverId</th>\n",
       "      <th>constructorId</th>\n",
       "      <th>points</th>\n",
       "      <th>laps</th>\n",
       "      <th>milliseconds</th>\n",
       "      <th>rank</th>\n",
       "      <th>fastestLapSpeed</th>\n",
       "      <th>name</th>\n",
       "    </tr>\n",
       "  </thead>\n",
       "  <tbody>\n",
       "    <tr>\n",
       "      <th>0</th>\n",
       "      <td>1</td>\n",
       "      <td>1</td>\n",
       "      <td>10.0</td>\n",
       "      <td>58</td>\n",
       "      <td>5690616</td>\n",
       "      <td>2</td>\n",
       "      <td>218.300</td>\n",
       "      <td>McLaren</td>\n",
       "    </tr>\n",
       "    <tr>\n",
       "      <th>8617</th>\n",
       "      <td>117</td>\n",
       "      <td>1</td>\n",
       "      <td>6.0</td>\n",
       "      <td>69</td>\n",
       "      <td>5992552</td>\n",
       "      <td>\\N</td>\n",
       "      <td>\\N</td>\n",
       "      <td>McLaren</td>\n",
       "    </tr>\n",
       "    <tr>\n",
       "      <th>8647</th>\n",
       "      <td>102</td>\n",
       "      <td>1</td>\n",
       "      <td>9.0</td>\n",
       "      <td>63</td>\n",
       "      <td>6896035</td>\n",
       "      <td>\\N</td>\n",
       "      <td>\\N</td>\n",
       "      <td>McLaren</td>\n",
       "    </tr>\n",
       "    <tr>\n",
       "      <th>8648</th>\n",
       "      <td>117</td>\n",
       "      <td>1</td>\n",
       "      <td>6.0</td>\n",
       "      <td>63</td>\n",
       "      <td>6934748</td>\n",
       "      <td>\\N</td>\n",
       "      <td>\\N</td>\n",
       "      <td>McLaren</td>\n",
       "    </tr>\n",
       "    <tr>\n",
       "      <th>8678</th>\n",
       "      <td>117</td>\n",
       "      <td>1</td>\n",
       "      <td>9.0</td>\n",
       "      <td>80</td>\n",
       "      <td>5857328</td>\n",
       "      <td>\\N</td>\n",
       "      <td>\\N</td>\n",
       "      <td>McLaren</td>\n",
       "    </tr>\n",
       "  </tbody>\n",
       "</table>\n",
       "</div>"
      ],
      "text/plain": [
       "      driverId  constructorId  points  laps milliseconds rank fastestLapSpeed  \\\n",
       "0            1              1    10.0    58      5690616    2         218.300   \n",
       "8617       117              1     6.0    69      5992552   \\N              \\N   \n",
       "8647       102              1     9.0    63      6896035   \\N              \\N   \n",
       "8648       117              1     6.0    63      6934748   \\N              \\N   \n",
       "8678       117              1     9.0    80      5857328   \\N              \\N   \n",
       "\n",
       "         name  \n",
       "0     McLaren  \n",
       "8617  McLaren  \n",
       "8647  McLaren  \n",
       "8648  McLaren  \n",
       "8678  McLaren  "
      ]
     },
     "execution_count": 53,
     "metadata": {},
     "output_type": "execute_result"
    }
   ],
   "source": [
    "results_const = pd.merge(results[[\"driverId\", \"constructorId\", \"points\", \"laps\", \n",
    "                                        \"milliseconds\", \"rank\", \"fastestLapSpeed\"]],\n",
    "                               constructors[[\"constructorId\", \"name\"]],\n",
    "                               on = \"constructorId\",\n",
    "                               how = \"left\").sort_values(by = \"constructorId\") # sort by constructorId for better examination\n",
    "\n",
    "results_const.head()"
   ]
  },
  {
   "cell_type": "markdown",
   "metadata": {},
   "source": [
    "### 2.2. Cleaning Data"
   ]
  },
  {
   "cell_type": "markdown",
   "metadata": {},
   "source": [
    "We will exclude the observations with NA values (`\\N`, in this dataset) for the convenience of future data manipulation."
   ]
  },
  {
   "cell_type": "code",
   "execution_count": 54,
   "metadata": {},
   "outputs": [
    {
     "data": {
      "text/html": [
       "<div>\n",
       "<style scoped>\n",
       "    .dataframe tbody tr th:only-of-type {\n",
       "        vertical-align: middle;\n",
       "    }\n",
       "\n",
       "    .dataframe tbody tr th {\n",
       "        vertical-align: top;\n",
       "    }\n",
       "\n",
       "    .dataframe thead th {\n",
       "        text-align: right;\n",
       "    }\n",
       "</style>\n",
       "<table border=\"1\" class=\"dataframe\">\n",
       "  <thead>\n",
       "    <tr style=\"text-align: right;\">\n",
       "      <th></th>\n",
       "      <th>driverId</th>\n",
       "      <th>constructorId</th>\n",
       "      <th>points</th>\n",
       "      <th>laps</th>\n",
       "      <th>milliseconds</th>\n",
       "      <th>rank</th>\n",
       "      <th>fastestLapSpeed</th>\n",
       "      <th>constructorName</th>\n",
       "    </tr>\n",
       "  </thead>\n",
       "  <tbody>\n",
       "    <tr>\n",
       "      <th>0</th>\n",
       "      <td>1</td>\n",
       "      <td>1</td>\n",
       "      <td>10.0</td>\n",
       "      <td>58</td>\n",
       "      <td>5690616</td>\n",
       "      <td>2</td>\n",
       "      <td>218.300</td>\n",
       "      <td>McLaren</td>\n",
       "    </tr>\n",
       "    <tr>\n",
       "      <th>7756</th>\n",
       "      <td>5</td>\n",
       "      <td>1</td>\n",
       "      <td>5.0</td>\n",
       "      <td>57</td>\n",
       "      <td>5771321</td>\n",
       "      <td>7</td>\n",
       "      <td>196.378</td>\n",
       "      <td>McLaren</td>\n",
       "    </tr>\n",
       "    <tr>\n",
       "      <th>7778</th>\n",
       "      <td>5</td>\n",
       "      <td>1</td>\n",
       "      <td>3.0</td>\n",
       "      <td>44</td>\n",
       "      <td>5063758</td>\n",
       "      <td>13</td>\n",
       "      <td>232.716</td>\n",
       "      <td>McLaren</td>\n",
       "    </tr>\n",
       "    <tr>\n",
       "      <th>7798</th>\n",
       "      <td>5</td>\n",
       "      <td>1</td>\n",
       "      <td>3.0</td>\n",
       "      <td>53</td>\n",
       "      <td>4642399</td>\n",
       "      <td>6</td>\n",
       "      <td>245.036</td>\n",
       "      <td>McLaren</td>\n",
       "    </tr>\n",
       "    <tr>\n",
       "      <th>7813</th>\n",
       "      <td>1</td>\n",
       "      <td>1</td>\n",
       "      <td>10.0</td>\n",
       "      <td>61</td>\n",
       "      <td>6966337</td>\n",
       "      <td>2</td>\n",
       "      <td>168.561</td>\n",
       "      <td>McLaren</td>\n",
       "    </tr>\n",
       "  </tbody>\n",
       "</table>\n",
       "</div>"
      ],
      "text/plain": [
       "      driverId  constructorId  points  laps milliseconds rank fastestLapSpeed  \\\n",
       "0            1              1    10.0    58      5690616    2         218.300   \n",
       "7756         5              1     5.0    57      5771321    7         196.378   \n",
       "7778         5              1     3.0    44      5063758   13         232.716   \n",
       "7798         5              1     3.0    53      4642399    6         245.036   \n",
       "7813         1              1    10.0    61      6966337    2         168.561   \n",
       "\n",
       "     constructorName  \n",
       "0            McLaren  \n",
       "7756         McLaren  \n",
       "7778         McLaren  \n",
       "7798         McLaren  \n",
       "7813         McLaren  "
      ]
     },
     "execution_count": 54,
     "metadata": {},
     "output_type": "execute_result"
    }
   ],
   "source": [
    "results_const.replace(r\"\\N\", np.nan, inplace = True) # replace the \"\\N\" values by nan\n",
    "cleaned_results_const = results_const.dropna() # drop all nan values\n",
    "cleaned_results_const = cleaned_results_const.rename(columns = {\"name\":\"constructorName\"}) # rename for better understanding\n",
    "\n",
    "cleaned_results_const.head()"
   ]
  },
  {
   "cell_type": "markdown",
   "metadata": {},
   "source": [
    "In order to process the data, we need to transform the data type of columns to numeric and transform the `milliseconds` data to the corresponding time length in hours for better understanding."
   ]
  },
  {
   "cell_type": "code",
   "execution_count": 55,
   "metadata": {},
   "outputs": [
    {
     "name": "stdout",
     "output_type": "stream",
     "text": [
      "milliseconds    object\n",
      "dtype: object\n",
      "fastestLapSpeed    object\n",
      "dtype: object\n"
     ]
    },
    {
     "data": {
      "text/html": [
       "<div>\n",
       "<style scoped>\n",
       "    .dataframe tbody tr th:only-of-type {\n",
       "        vertical-align: middle;\n",
       "    }\n",
       "\n",
       "    .dataframe tbody tr th {\n",
       "        vertical-align: top;\n",
       "    }\n",
       "\n",
       "    .dataframe thead th {\n",
       "        text-align: right;\n",
       "    }\n",
       "</style>\n",
       "<table border=\"1\" class=\"dataframe\">\n",
       "  <thead>\n",
       "    <tr style=\"text-align: right;\">\n",
       "      <th></th>\n",
       "      <th>driverId</th>\n",
       "      <th>constructorId</th>\n",
       "      <th>points</th>\n",
       "      <th>laps</th>\n",
       "      <th>milliseconds</th>\n",
       "      <th>rank</th>\n",
       "      <th>fastestLapSpeed</th>\n",
       "      <th>constructorName</th>\n",
       "      <th>hours</th>\n",
       "    </tr>\n",
       "  </thead>\n",
       "  <tbody>\n",
       "    <tr>\n",
       "      <th>0</th>\n",
       "      <td>1</td>\n",
       "      <td>1</td>\n",
       "      <td>10.0</td>\n",
       "      <td>58</td>\n",
       "      <td>5690616</td>\n",
       "      <td>2</td>\n",
       "      <td>218.300</td>\n",
       "      <td>McLaren</td>\n",
       "      <td>1.580727</td>\n",
       "    </tr>\n",
       "    <tr>\n",
       "      <th>7756</th>\n",
       "      <td>5</td>\n",
       "      <td>1</td>\n",
       "      <td>5.0</td>\n",
       "      <td>57</td>\n",
       "      <td>5771321</td>\n",
       "      <td>7</td>\n",
       "      <td>196.378</td>\n",
       "      <td>McLaren</td>\n",
       "      <td>1.603145</td>\n",
       "    </tr>\n",
       "    <tr>\n",
       "      <th>7778</th>\n",
       "      <td>5</td>\n",
       "      <td>1</td>\n",
       "      <td>3.0</td>\n",
       "      <td>44</td>\n",
       "      <td>5063758</td>\n",
       "      <td>13</td>\n",
       "      <td>232.716</td>\n",
       "      <td>McLaren</td>\n",
       "      <td>1.406599</td>\n",
       "    </tr>\n",
       "    <tr>\n",
       "      <th>7798</th>\n",
       "      <td>5</td>\n",
       "      <td>1</td>\n",
       "      <td>3.0</td>\n",
       "      <td>53</td>\n",
       "      <td>4642399</td>\n",
       "      <td>6</td>\n",
       "      <td>245.036</td>\n",
       "      <td>McLaren</td>\n",
       "      <td>1.289555</td>\n",
       "    </tr>\n",
       "    <tr>\n",
       "      <th>7813</th>\n",
       "      <td>1</td>\n",
       "      <td>1</td>\n",
       "      <td>10.0</td>\n",
       "      <td>61</td>\n",
       "      <td>6966337</td>\n",
       "      <td>2</td>\n",
       "      <td>168.561</td>\n",
       "      <td>McLaren</td>\n",
       "      <td>1.935094</td>\n",
       "    </tr>\n",
       "  </tbody>\n",
       "</table>\n",
       "</div>"
      ],
      "text/plain": [
       "      driverId  constructorId  points  laps  milliseconds rank  \\\n",
       "0            1              1    10.0    58       5690616    2   \n",
       "7756         5              1     5.0    57       5771321    7   \n",
       "7778         5              1     3.0    44       5063758   13   \n",
       "7798         5              1     3.0    53       4642399    6   \n",
       "7813         1              1    10.0    61       6966337    2   \n",
       "\n",
       "      fastestLapSpeed constructorName     hours  \n",
       "0             218.300         McLaren  1.580727  \n",
       "7756          196.378         McLaren  1.603145  \n",
       "7778          232.716         McLaren  1.406599  \n",
       "7798          245.036         McLaren  1.289555  \n",
       "7813          168.561         McLaren  1.935094  "
      ]
     },
     "execution_count": 55,
     "metadata": {},
     "output_type": "execute_result"
    }
   ],
   "source": [
    "print(cleaned_results_const[[\"milliseconds\"]].dtypes) # check data type of `milliseconds`\n",
    "cleaned_results_const[\"milliseconds\"] = pd.to_numeric(cleaned_results_const[\"milliseconds\"]) # transfer to numeric data type\n",
    "cleaned_results_const[\"hours\"] = cleaned_results_const[\"milliseconds\"] / 3600000 # transform to hours\n",
    "\n",
    "print(cleaned_results_const[[\"fastestLapSpeed\"]].dtypes) # check data type of `milliseconds`\n",
    "cleaned_results_const[\"fastestLapSpeed\"] = pd.to_numeric(cleaned_results_const[\"fastestLapSpeed\"]) # transfer to numeric data type\n",
    "\n",
    "cleaned_results_const.head()"
   ]
  },
  {
   "cell_type": "markdown",
   "metadata": {},
   "source": [
    "### 2.3. Analyse Main Columns"
   ]
  },
  {
   "cell_type": "markdown",
   "metadata": {},
   "source": [
    "Since we're interested in the difference of speed between vehicles produced by different constructors, we will be mainly focusing on columns including `hours` (finishing time in hours) which indicates the average speed, and `fastestLapSpeed` (fastest lap speed (km/h)) which denotes the best dash speed. Here we will shou the aggregated summary statistics for each of the variables we're working on. "
   ]
  },
  {
   "cell_type": "code",
   "execution_count": 50,
   "metadata": {},
   "outputs": [
    {
     "data": {
      "text/html": [
       "<div>\n",
       "<style scoped>\n",
       "    .dataframe tbody tr th:only-of-type {\n",
       "        vertical-align: middle;\n",
       "    }\n",
       "\n",
       "    .dataframe tbody tr th {\n",
       "        vertical-align: top;\n",
       "    }\n",
       "\n",
       "    .dataframe thead th {\n",
       "        text-align: right;\n",
       "    }\n",
       "</style>\n",
       "<table border=\"1\" class=\"dataframe\">\n",
       "  <thead>\n",
       "    <tr style=\"text-align: right;\">\n",
       "      <th></th>\n",
       "      <th>hours</th>\n",
       "    </tr>\n",
       "  </thead>\n",
       "  <tbody>\n",
       "    <tr>\n",
       "      <th>mean_totalHours</th>\n",
       "      <td>1.639279</td>\n",
       "    </tr>\n",
       "    <tr>\n",
       "      <th>sd_totalHours</th>\n",
       "      <td>0.301582</td>\n",
       "    </tr>\n",
       "    <tr>\n",
       "      <th>min_totalHours</th>\n",
       "      <td>1.181137</td>\n",
       "    </tr>\n",
       "    <tr>\n",
       "      <th>max_totalHours</th>\n",
       "      <td>4.095318</td>\n",
       "    </tr>\n",
       "    <tr>\n",
       "      <th>count_obs</th>\n",
       "      <td>3683.000000</td>\n",
       "    </tr>\n",
       "  </tbody>\n",
       "</table>\n",
       "</div>"
      ],
      "text/plain": [
       "                       hours\n",
       "mean_totalHours     1.639279\n",
       "sd_totalHours       0.301582\n",
       "min_totalHours      1.181137\n",
       "max_totalHours      4.095318\n",
       "count_obs        3683.000000"
      ]
     },
     "metadata": {},
     "output_type": "display_data"
    }
   ],
   "source": [
    "totalHours_agg = cleaned_results_const.agg(mean_totalHours = ('hours','mean'),\n",
    "            sd_totalHours =   ('hours','std'),\n",
    "            min_totalHours =  ('hours','min'),\n",
    "            max_totalHours =  ('hours','max'),\n",
    "            count_obs   = ('hours',len))\n",
    "\n",
    "display(totalHours_agg)"
   ]
  },
  {
   "cell_type": "code",
   "execution_count": 51,
   "metadata": {},
   "outputs": [
    {
     "data": {
      "text/html": [
       "<div>\n",
       "<style scoped>\n",
       "    .dataframe tbody tr th:only-of-type {\n",
       "        vertical-align: middle;\n",
       "    }\n",
       "\n",
       "    .dataframe tbody tr th {\n",
       "        vertical-align: top;\n",
       "    }\n",
       "\n",
       "    .dataframe thead th {\n",
       "        text-align: right;\n",
       "    }\n",
       "</style>\n",
       "<table border=\"1\" class=\"dataframe\">\n",
       "  <thead>\n",
       "    <tr style=\"text-align: right;\">\n",
       "      <th></th>\n",
       "      <th>fastestLapSpeed</th>\n",
       "    </tr>\n",
       "  </thead>\n",
       "  <tbody>\n",
       "    <tr>\n",
       "      <th>mean_fastestSpeed</th>\n",
       "      <td>206.205344</td>\n",
       "    </tr>\n",
       "    <tr>\n",
       "      <th>sd_fastestSpeed</th>\n",
       "      <td>20.779461</td>\n",
       "    </tr>\n",
       "    <tr>\n",
       "      <th>min_fastestSpeed</th>\n",
       "      <td>148.589000</td>\n",
       "    </tr>\n",
       "    <tr>\n",
       "      <th>max_fastestSpeed</th>\n",
       "      <td>257.320000</td>\n",
       "    </tr>\n",
       "    <tr>\n",
       "      <th>count_obs</th>\n",
       "      <td>3683.000000</td>\n",
       "    </tr>\n",
       "  </tbody>\n",
       "</table>\n",
       "</div>"
      ],
      "text/plain": [
       "                   fastestLapSpeed\n",
       "mean_fastestSpeed       206.205344\n",
       "sd_fastestSpeed          20.779461\n",
       "min_fastestSpeed        148.589000\n",
       "max_fastestSpeed        257.320000\n",
       "count_obs              3683.000000"
      ]
     },
     "metadata": {},
     "output_type": "display_data"
    }
   ],
   "source": [
    "fastestSpeed_agg = cleaned_results_const.agg(mean_fastestSpeed = ('fastestLapSpeed','mean'),\n",
    "            sd_fastestSpeed =   ('fastestLapSpeed','std'),\n",
    "            min_fastestSpeed =  ('fastestLapSpeed','min'),\n",
    "            max_fastestSpeed =  ('fastestLapSpeed','max'),\n",
    "            count_obs   = ('fastestLapSpeed',len))\n",
    "\n",
    "display(fastestSpeed_agg)"
   ]
  },
  {
   "cell_type": "markdown",
   "metadata": {},
   "source": [
    "We can also take a look at how many unique constructors are there in our dataset, and examine how many observations, i.e. records of results, exists for each of the constructor."
   ]
  },
  {
   "cell_type": "code",
   "execution_count": 64,
   "metadata": {},
   "outputs": [
    {
     "name": "stdout",
     "output_type": "stream",
     "text": [
      "There are 30 unique constructors in our cleaned dataset, each of them shown below.\n",
      "['Alfa Romeo' 'AlphaTauri' 'Alpine F1 Team' 'Aston Martin' 'BAR'\n",
      " 'BMW Sauber' 'Brawn' 'Caterham' 'Ferrari' 'Force India' 'HRT'\n",
      " 'Haas F1 Team' 'Honda' 'Jaguar' 'Jordan' 'Lotus' 'Lotus F1'\n",
      " 'Manor Marussia' 'Marussia' 'McLaren' 'Mercedes' 'Racing Point'\n",
      " 'Red Bull' 'Renault' 'Sauber' 'Spyker' 'Super Aguri' 'Toro Rosso'\n",
      " 'Toyota' 'Williams']\n"
     ]
    },
    {
     "data": {
      "text/plain": [
       "Ferrari           581\n",
       "Red Bull          485\n",
       "Mercedes          435\n",
       "McLaren           422\n",
       "Williams          293\n",
       "Renault           240\n",
       "Force India       208\n",
       "Toro Rosso        175\n",
       "Sauber            129\n",
       "BMW Sauber         92\n",
       "Toyota             91\n",
       "Lotus F1           79\n",
       "Haas F1 Team       74\n",
       "AlphaTauri         57\n",
       "Alfa Romeo         53\n",
       "Alpine F1 Team     47\n",
       "Aston Martin       42\n",
       "Honda              37\n",
       "Racing Point       36\n",
       "BAR                35\n",
       "Brawn              32\n",
       "Caterham           12\n",
       "Marussia           11\n",
       "Jaguar              7\n",
       "Manor Marussia      3\n",
       "Lotus               2\n",
       "Super Aguri         2\n",
       "Jordan              1\n",
       "HRT                 1\n",
       "Spyker              1\n",
       "Name: constructorName, dtype: int64"
      ]
     },
     "execution_count": 64,
     "metadata": {},
     "output_type": "execute_result"
    }
   ],
   "source": [
    "unique_constructors = pd.unique(cleaned_results_const[\"constructorName\"].sort_values())\n",
    "print(\"There are \" + str(len(unique_constructors)) + \n",
    "      \" unique constructors in our cleaned dataset, each of them shown below.\")\n",
    "print(unique_constructors)\n",
    "\n",
    "cleaned_results_const[\"constructorName\"].value_counts()"
   ]
  },
  {
   "cell_type": "markdown",
   "metadata": {},
   "source": [
    "We can see from the table above that Ferrari is the most popular constructor in the race, with 581 records. Red Bull is on the second place, followed by Mercedes and others."
   ]
  },
  {
   "cell_type": "markdown",
   "metadata": {},
   "source": [
    "***"
   ]
  },
  {
   "cell_type": "markdown",
   "metadata": {},
   "source": [
    "## 3. Results"
   ]
  },
  {
   "cell_type": "markdown",
   "metadata": {},
   "source": [
    "***"
   ]
  },
  {
   "cell_type": "markdown",
   "metadata": {},
   "source": [
    "## 4. Discussion"
   ]
  },
  {
   "cell_type": "markdown",
   "metadata": {},
   "source": []
  }
 ],
 "metadata": {
  "kernelspec": {
   "display_name": "base",
   "language": "python",
   "name": "python3"
  },
  "language_info": {
   "codemirror_mode": {
    "name": "ipython",
    "version": 3
   },
   "file_extension": ".py",
   "mimetype": "text/x-python",
   "name": "python",
   "nbconvert_exporter": "python",
   "pygments_lexer": "ipython3",
   "version": "3.9.13"
  }
 },
 "nbformat": 4,
 "nbformat_minor": 2
}
